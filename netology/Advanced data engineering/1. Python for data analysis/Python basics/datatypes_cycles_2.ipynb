{
  "nbformat": 4,
  "nbformat_minor": 0,
  "metadata": {
    "kernelspec": {
      "display_name": "Python 3",
      "language": "python",
      "name": "python3"
    },
    "language_info": {
      "codemirror_mode": {
        "name": "ipython",
        "version": 3
      },
      "file_extension": ".py",
      "mimetype": "text/x-python",
      "name": "python",
      "nbconvert_exporter": "python",
      "pygments_lexer": "ipython3",
      "version": "3.8.5"
    },
    "colab": {
      "name": "datatypes_cycles_2.ipynb",
      "provenance": [],
      "collapsed_sections": []
    }
  },
  "cells": [
    {
      "cell_type": "markdown",
      "metadata": {
        "id": "ichHy_lOH5iJ"
      },
      "source": [
        "# Домашнее задание к лекции \"Введение в типы данных и циклы. Часть 2\""
      ]
    },
    {
      "cell_type": "markdown",
      "metadata": {
        "id": "W2JlmGHPH5iN"
      },
      "source": [
        "## Задание 1\n",
        "Дана переменная, в которой хранится словарь, содержащий гео-метки для каждого пользователя (пример структуры данных приведен ниже). Вам необходимо написать программу, которая выведет на экран множество уникальных гео-меток всех пользователей.\n",
        "\n",
        "Пример работы программы:  \n",
        "\n",
        "```\n",
        "ids = {'user1': [213, 213, 213, 15, 213], \n",
        "       'user2': [54, 54, 119, 119, 119], \n",
        "       'user3': [213, 98, 98, 35]}\n",
        "```\n",
        "\n",
        "Результат: \n",
        "`{98, 35, 15, 213, 54, 119}`"
      ]
    },
    {
      "cell_type": "code",
      "metadata": {
        "colab": {
          "base_uri": "https://localhost:8080/"
        },
        "id": "DQ7yqJ1wIMQv",
        "outputId": "308b41fa-7a08-418d-a1ba-c609eecaaa65"
      },
      "source": [
        "ids = {'user1': [213, 213, 213, 15, 213], \n",
        "       'user2': [54, 54, 119, 119, 119], \n",
        "       'user3': [213, 98, 98, 35]}\n",
        "res = set({})\n",
        "for value in ids.values():\n",
        "  res = res.union(set(value))\n",
        "\n",
        "print(res)"
      ],
      "execution_count": 3,
      "outputs": [
        {
          "output_type": "stream",
          "name": "stdout",
          "text": [
            "{98, 35, 213, 54, 119, 15}\n"
          ]
        }
      ]
    },
    {
      "cell_type": "markdown",
      "metadata": {
        "id": "jNs4Ec-HH5iO"
      },
      "source": [
        "## Задание 2\n",
        "Дана переменная, в которой хранится список поисковых запросов пользователя (пример структуры данных приведен ниже). Вам необходимо написать программу, которая выведет на экран распределение количества слов в запросах в требуемом виде.\n",
        "\n",
        "Пример работы программы:  \n",
        "\n",
        "```\n",
        "queries = [\n",
        "    'смотреть сериалы онлайн',\n",
        "    'новости спорта',\n",
        "    'афиша кино',\n",
        "    'курс доллара',\n",
        "    'сериалы этим летом',\n",
        "    'курс по питону',\n",
        "    'сериалы про спорт',\n",
        "]\n",
        "```\n",
        "\n",
        "Результат: \n",
        "```\n",
        "Поисковых запросов, содержащих 2 слов(а): 42.86%\n",
        "Поисковых запросов, содержащих 3 слов(а): 57.14%\n",
        "```"
      ]
    },
    {
      "cell_type": "code",
      "metadata": {
        "colab": {
          "base_uri": "https://localhost:8080/"
        },
        "id": "ihKm-G0QLARP",
        "outputId": "879acc7b-1469-4dff-c02d-79c6cda41d8d"
      },
      "source": [
        "queries = [\n",
        "    'смотреть сериалы онлайн',\n",
        "    'новости спорта',\n",
        "    'афиша кино',\n",
        "    'курс доллара',\n",
        "    'сериалы этим летом',\n",
        "    'курс по питону',\n",
        "    'сериалы про спорт',\n",
        "]\n",
        "d = {}\n",
        "for q in queries:\n",
        "  key_query_len = len(q.split(\" \"))\n",
        "  d[key_query_len] = d.get(key_query_len, 0) + 1\n",
        "\n",
        "for k, v in sorted(d.items()):\n",
        "  res = round((v/len(queries)) * 100, 2)\n",
        "  print(f\"Поисковых запросов, содержащих {k} слов(а): {res}%\")"
      ],
      "execution_count": 11,
      "outputs": [
        {
          "output_type": "stream",
          "name": "stdout",
          "text": [
            "Поисковых запросов, содержащих 2 слов(а): 42.86%\n",
            "Поисковых запросов, содержащих 3 слов(а): 57.14%\n"
          ]
        }
      ]
    },
    {
      "cell_type": "markdown",
      "metadata": {
        "id": "siMDipp9H5iP"
      },
      "source": [
        "## Задание 3\n",
        "Дана переменная, в которой хранится информация о затратах и доходе рекламных кампаний по различным источникам. Необходимо дополнить исходную структуру показателем [ROI](https://ru.wikipedia.org/wiki/%D0%9E%D0%BA%D1%83%D0%BF%D0%B0%D0%B5%D0%BC%D0%BE%D1%81%D1%82%D1%8C_%D0%B8%D0%BD%D0%B2%D0%B5%D1%81%D1%82%D0%B8%D1%86%D0%B8%D0%B9), который рассчитаем по формуле: **(revenue / cost - 1) * 100**\n",
        "\n",
        "Пример работы программы:  \n",
        "\n",
        "```\n",
        "results = {\n",
        "    'vk': {'revenue': 103, 'cost': 98},\n",
        "    'yandex': {'revenue': 179, 'cost': 153},\n",
        "    'facebook': {'revenue': 103, 'cost': 110},\n",
        "    'adwords': {'revenue': 35, 'cost': 34},\n",
        "    'twitter': {'revenue': 11, 'cost': 24},\n",
        "}\n",
        "```\n",
        "\n",
        "Результат: \n",
        "```\n",
        "{'adwords': {'revenue': 35, 'cost': 34, 'ROI': 2.94},\n",
        " 'facebook': {'revenue': 103, 'cost': 110, 'ROI': -6.36},\n",
        " 'twitter': {'revenue': 11, 'cost': 24, 'ROI': -54.17},\n",
        " 'vk': {'revenue': 103, 'cost': 98, 'ROI': 5.1},\n",
        " 'yandex': {'revenue': 179, 'cost': 153, 'ROI': 16.99}}\n",
        "```"
      ]
    },
    {
      "cell_type": "code",
      "metadata": {
        "colab": {
          "base_uri": "https://localhost:8080/"
        },
        "id": "W57JIrPvOGo1",
        "outputId": "48c63e80-6cb3-4195-d8a9-cb73675c2667"
      },
      "source": [
        "results = {\n",
        "    'vk': {'revenue': 103, 'cost': 98},\n",
        "    'yandex': {'revenue': 179, 'cost': 153},\n",
        "    'facebook': {'revenue': 103, 'cost': 110},\n",
        "    'adwords': {'revenue': 35, 'cost': 34},\n",
        "    'twitter': {'revenue': 11, 'cost': 24},\n",
        "}\n",
        "\n",
        "for k,v in results.items():\n",
        "  #print(v)\n",
        "  roi = round((v[\"revenue\"] / v[\"cost\"] - 1) * 100, 2)\n",
        "  results[k].update({\"ROI\": roi})\n",
        "\n",
        "print(results)"
      ],
      "execution_count": 18,
      "outputs": [
        {
          "output_type": "stream",
          "name": "stdout",
          "text": [
            "{'vk': {'revenue': 103, 'cost': 98, 'ROI': 5.1}, 'yandex': {'revenue': 179, 'cost': 153, 'ROI': 16.99}, 'facebook': {'revenue': 103, 'cost': 110, 'ROI': -6.36}, 'adwords': {'revenue': 35, 'cost': 34, 'ROI': 2.94}, 'twitter': {'revenue': 11, 'cost': 24, 'ROI': -54.17}}\n"
          ]
        }
      ]
    },
    {
      "cell_type": "markdown",
      "metadata": {
        "id": "OKuw8tMIH5iP"
      },
      "source": [
        "## Задание 4\n",
        "Дана переменная, в которой хранится статистика рекламных каналов по объемам продаж (пример структуры данных приведен ниже). Напишите программу, которая возвращает название канала с максимальным объемом продаж.\n",
        "\n",
        "Пример работы программы:  \n",
        "\n",
        "`stats = {'facebook': 55, 'yandex': 115, 'vk': 120, 'google': 99, 'email': 42, 'ok': 98}`\n",
        "\n",
        "Результат: \n",
        "`Максимальный объем продаж на рекламном канале: vk`"
      ]
    },
    {
      "cell_type": "code",
      "metadata": {
        "colab": {
          "base_uri": "https://localhost:8080/"
        },
        "id": "u10WX9xEQiX2",
        "outputId": "ae9bf2f9-2f68-4ce2-b5c5-2f06b2a3b0a2"
      },
      "source": [
        "stats = {'facebook': 55, 'yandex': 115, 'vk': 120, 'google': 99, 'email': 42, 'ok': 98}\n",
        "max_sales = max(stats.values())\n",
        "for k,v in stats.items():\n",
        "  if max_sales == v:\n",
        "    channel = k\n",
        "    break\n",
        "print(f\"Максимальный объем продаж на рекламном канале: {channel}\")"
      ],
      "execution_count": 20,
      "outputs": [
        {
          "output_type": "stream",
          "name": "stdout",
          "text": [
            "Максимальный объем продаж на рекламном канале: vk\n"
          ]
        }
      ]
    },
    {
      "cell_type": "markdown",
      "metadata": {
        "id": "JbdOa2hZH5iQ"
      },
      "source": [
        "## Задание 5 (необязательно)\n",
        "Дан список произвольной длины. Необходимо написать код, который на основе исходного списка составит словарь такого уровня вложенности, какова длина исхондого списка.\n",
        "\n",
        "Примеры работы программы:  \n",
        "\n",
        "1. `my_list = ['2018-01-01', 'yandex', 'cpc', 100]`\n",
        "\n",
        "Результат: \n",
        "`{'2018-01-01': {'yandex': {'cpc': 100}}}`\n",
        "\n",
        "2. `my_list = ['a', 'b', 'c', 'd', 'e', 'f']`\n",
        "\n",
        "Результат: \n",
        "`{'a': {'b': {'c': {'d': {'e': 'f'}}}}}`"
      ]
    },
    {
      "cell_type": "code",
      "metadata": {
        "colab": {
          "base_uri": "https://localhost:8080/"
        },
        "id": "zu6vz09oaGZD",
        "outputId": "5c3100cd-c929-4c39-ab64-52a75f10e6e7"
      },
      "source": [
        "import json\n",
        "\n",
        "my_list = ['2018-01-01', 'yandex', 'cpc', 100]\n",
        "#my_list = ['a', 'b', 'c', 'd', 'e', 'f']\n",
        "str_dict = \"{\"\n",
        "for e in my_list[0:len(my_list)-2]:\n",
        "  if type(e) == str:\n",
        "    str_dict += \"\\\"\" + e + \"\\\" : {\"\n",
        "  else:\n",
        "    str_dict += str(e) + \" : {\"\n",
        "\n",
        "if type(my_list[len(my_list)-2]) == str:\n",
        "  str_dict += \"\\\"\" + str(my_list[len(my_list)-2]) + \"\\\" : \"\n",
        "else:\n",
        "  str_dict += str(my_list[len(my_list)-2]) + \" : \"\n",
        "\n",
        "if type(my_list[len(my_list)-1]) == str:\n",
        "  str_dict += \"\\\"\" + str(my_list[len(my_list)-1]) + \"\\\"\"\n",
        "else:\n",
        "  str_dict += str(my_list[len(my_list)-1]) + \"\"\n",
        "\n",
        "str_dict += \"}\"*(len(my_list)-1) # add closing }}}...\n",
        "d = json.loads(str_dict)\n",
        "print(d)"
      ],
      "execution_count": 78,
      "outputs": [
        {
          "output_type": "stream",
          "name": "stdout",
          "text": [
            "{'2018-01-01': {'yandex': {'cpc': 100}}}\n"
          ]
        }
      ]
    },
    {
      "cell_type": "markdown",
      "metadata": {
        "id": "UnHas2MSH5iR"
      },
      "source": [
        "## Задание 6 (необязательно)\n",
        "Дана книга рецептов с информацией о том, сколько ингредиентов нужно для приготовления блюда в расчете на одну порцию (пример данных представлен ниже).  \n",
        "Напишите программу, которая будет запрашивать у пользователя количество порций для приготовления этих блюд и отображать информацию о суммарном количестве требуемых ингредиентов в указанном виде.  \n",
        "**Внимание!** Одинаковые ингридиенты с разными размерностями нужно считать раздельно!  \n",
        "Пример работы программы:  \n",
        "```\n",
        "cook_book = {\n",
        "  'салат': [\n",
        "     {'ingridient_name': 'сыр', 'quantity': 50, 'measure': 'гр'},\n",
        "     {'ingridient_name': 'томаты', 'quantity': 2, 'measure': 'шт'},\n",
        "     {'ingridient_name': 'огурцы', 'quantity': 20, 'measure': 'гр'},\n",
        "     {'ingridient_name': 'маслины', 'quantity': 10, 'measure': 'гр'},\n",
        "     {'ingridient_name': 'оливковое масло', 'quantity': 20, 'measure': 'мл'},\n",
        "     {'ingridient_name': 'салат', 'quantity': 10, 'measure': 'гр'},\n",
        "     {'ingridient_name': 'перец', 'quantity': 20, 'measure': 'гр'}\n",
        "    ],\n",
        "  'пицца': [\n",
        "     {'ingridient_name': 'сыр', 'quantity': 20, 'measure': 'гр'},\n",
        "     {'ingridient_name': 'колбаса', 'quantity': 30, 'measure': 'гр'},\n",
        "     {'ingridient_name': 'бекон', 'quantity': 30, 'measure': 'гр'},\n",
        "     {'ingridient_name': 'оливки', 'quantity': 10, 'measure': 'гр'},\n",
        "     {'ingridient_name': 'томаты', 'quantity': 20, 'measure': 'гр'},\n",
        "     {'ingridient_name': 'тесто', 'quantity': 100, 'measure': 'гр'},   \n",
        "    ],\n",
        "  'лимонад': [\n",
        "     {'ingridient_name': 'лимон', 'quantity': 1, 'measure': 'шт'},\n",
        "     {'ingridient_name': 'вода', 'quantity': 200, 'measure': 'мл'},\n",
        "     {'ingridient_name': 'сахар', 'quantity': 10, 'measure': 'гр'},\n",
        "     {'ingridient_name': 'лайм', 'quantity': 20, 'measure': 'гр'},    \n",
        "    ]\n",
        "}\n",
        "\n",
        "Введите количество порций:  \n",
        "3\n",
        "```\n",
        "\n",
        "\n",
        "Результат: \n",
        "```\n",
        "Сыр: 210 гр  \n",
        "Томаты: 6 шт  \n",
        "Огурцы: 60 гр  \n",
        "Маслины: 30 гр  \n",
        "Оливковое масло: 60 мл  \n",
        "Салат: 30 гр  \n",
        "Перец: 60 гр  \n",
        "Колбаса: 90 гр  \n",
        "Бекон: 90 гр  \n",
        "Оливки: 30 гр  \n",
        "Томаты: 60 гр  \n",
        "Тесто: 300 гр  \n",
        "Лимон: 3 шт  \n",
        "Вода: 600 мл  \n",
        "Сахар: 30 гр  \n",
        "Лайм: 60 гр  \n",
        "```"
      ]
    },
    {
      "cell_type": "code",
      "metadata": {
        "colab": {
          "base_uri": "https://localhost:8080/"
        },
        "id": "gIs9N0TVgMGl",
        "outputId": "638c9742-ae9e-4161-9467-948ee6f95e0c"
      },
      "source": [
        "cook_book = {\n",
        "  'салат': [\n",
        "     {'ingridient_name': 'сыр', 'quantity': 50, 'measure': 'гр'},\n",
        "     {'ingridient_name': 'томаты', 'quantity': 2, 'measure': 'шт'},\n",
        "     {'ingridient_name': 'огурцы', 'quantity': 20, 'measure': 'гр'},\n",
        "     {'ingridient_name': 'маслины', 'quantity': 10, 'measure': 'гр'},\n",
        "     {'ingridient_name': 'оливковое масло', 'quantity': 20, 'measure': 'мл'},\n",
        "     {'ingridient_name': 'салат', 'quantity': 10, 'measure': 'гр'},\n",
        "     {'ingridient_name': 'перец', 'quantity': 20, 'measure': 'гр'}\n",
        "    ],\n",
        "  'пицца': [\n",
        "     {'ingridient_name': 'сыр', 'quantity': 20, 'measure': 'гр'},\n",
        "     {'ingridient_name': 'колбаса', 'quantity': 30, 'measure': 'гр'},\n",
        "     {'ingridient_name': 'бекон', 'quantity': 30, 'measure': 'гр'},\n",
        "     {'ingridient_name': 'оливки', 'quantity': 10, 'measure': 'гр'},\n",
        "     {'ingridient_name': 'томаты', 'quantity': 20, 'measure': 'гр'},\n",
        "     {'ingridient_name': 'тесто', 'quantity': 100, 'measure': 'гр'},   \n",
        "    ],\n",
        "  'лимонад': [\n",
        "     {'ingridient_name': 'лимон', 'quantity': 1, 'measure': 'шт'},\n",
        "     {'ingridient_name': 'вода', 'quantity': 200, 'measure': 'мл'},\n",
        "     {'ingridient_name': 'сахар', 'quantity': 10, 'measure': 'гр'},\n",
        "     {'ingridient_name': 'лайм', 'quantity': 20, 'measure': 'гр'},    \n",
        "    ]\n",
        "}\n",
        "\n",
        "portions = int(input(\"Введите количество порций: \"))\n",
        "d = {}\n",
        "for ingridients in cook_book.values():\n",
        "  for e in ingridients:\n",
        "    ingr, qty, msr = e.values()\n",
        "    key = ingr+\":\"+msr\n",
        "    d.setdefault(key, {\"quantity\" : 0, \"measure\" : \"\"})\n",
        "    d[key].update({\"quantity\" : d[key][\"quantity\"] + (qty*portions), \"measure\" : msr})\n",
        "\n",
        "for k,v in d.items():\n",
        "  print(f\"{k.split(':')[0]}: {v.get('quantity')} {v.get('measure')}\")"
      ],
      "execution_count": 115,
      "outputs": [
        {
          "output_type": "stream",
          "name": "stdout",
          "text": [
            "Введите количество порций: 3\n",
            "сыр: 210 гр\n",
            "томаты: 6 шт\n",
            "огурцы: 60 гр\n",
            "маслины: 30 гр\n",
            "оливковое масло: 60 мл\n",
            "салат: 30 гр\n",
            "перец: 60 гр\n",
            "колбаса: 90 гр\n",
            "бекон: 90 гр\n",
            "оливки: 30 гр\n",
            "томаты: 60 гр\n",
            "тесто: 300 гр\n",
            "лимон: 3 шт\n",
            "вода: 600 мл\n",
            "сахар: 30 гр\n",
            "лайм: 60 гр\n"
          ]
        }
      ]
    },
    {
      "cell_type": "markdown",
      "metadata": {
        "id": "aedg39duH5iS"
      },
      "source": [
        "#### ПРИМЕЧАНИЕ\n",
        "Домашнее задание сдается ссылкой [Google Colab](https://colab.research.google.com/).\n",
        "Не сможем проверить или помочь, если вы пришлете:\n",
        "- файлы;\n",
        "- архивы;\n",
        "- скриншоты кода.\n",
        "\n",
        "Все обсуждения и консультации по выполнению домашнего задания ведутся только на соответствующем канале в slack.\n",
        "\n",
        "##### Как правильно задавать вопросы аспирантам, преподавателям и коллегам\n",
        "Прежде чем задать вопрос, попробуйте найти ответ в интернете. Навык самостоятельного поиска информации — один из важнейших. Каждый практикующий специалист любого уровня делает это ежедневно.\n",
        "\n",
        "Сформулируйте вопрос по алгоритму:  \n",
        "1) Что я делаю?  \n",
        "2) Какого результата я ожидаю?  \n",
        "3) Как фактический результат отличается от ожидаемого?  \n",
        "4) Что я уже попробовал сделать, чтобы исправить проблему?  \n",
        "\n",
        "По возможности прикрепите к вопросу скриншоты либо ссылки на код. Не выкладывайте все решение, оставляйте только проблемный и воспроизводимый участок кода."
      ]
    }
  ]
}