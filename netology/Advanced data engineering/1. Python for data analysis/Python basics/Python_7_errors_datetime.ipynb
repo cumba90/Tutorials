{
  "nbformat": 4,
  "nbformat_minor": 0,
  "metadata": {
    "colab": {
      "name": "Python_7_errors_datetime.ipynb",
      "provenance": [],
      "collapsed_sections": []
    },
    "kernelspec": {
      "name": "python3",
      "display_name": "Python 3"
    },
    "language_info": {
      "name": "python"
    }
  },
  "cells": [
    {
      "cell_type": "markdown",
      "metadata": {
        "id": "6BbwjuBVXnod"
      },
      "source": [
        "#Задание\n",
        "##Задание 1\n",
        "Печатные газеты использовали свой формат дат для каждого выпуска. Для каждой газеты из списка напишите формат указанной даты для перевода в объект datetime:\n",
        "The Moscow Times - Wednesday, October 2, 2002\n",
        "The Guardian - Friday, 11.10.13\n",
        "Daily News - Thursday, 18 August 1977"
      ]
    },
    {
      "cell_type": "code",
      "metadata": {
        "id": "Y2Mc7zi1Y1Kq"
      },
      "source": [
        "from datetime import datetime"
      ],
      "execution_count": 2,
      "outputs": []
    },
    {
      "cell_type": "code",
      "metadata": {
        "colab": {
          "base_uri": "https://localhost:8080/"
        },
        "id": "8vqSk2CTaR-E",
        "outputId": "a6d73a06-0838-4045-8e25-21f68c5f643a"
      },
      "source": [
        "date1 = datetime.strptime('Wednesday, October 2, 2002', '%A, %B %d, %Y')\n",
        "date2 = datetime.strptime('Friday, 11.10.13', '%A, %d.%m.%y')\n",
        "date3 = datetime.strptime('Thursday, 18 August 1977', '%A, %d %B %Y')\n",
        "\n",
        "print(date1,date2,date3 ,sep='\\n')"
      ],
      "execution_count": 6,
      "outputs": [
        {
          "output_type": "stream",
          "name": "stdout",
          "text": [
            "2002-10-02 00:00:00\n",
            "2013-10-11 00:00:00\n",
            "1977-08-18 00:00:00\n"
          ]
        }
      ]
    },
    {
      "cell_type": "markdown",
      "metadata": {
        "id": "1zzmDyioYsa9"
      },
      "source": [
        "##Задание 2\n",
        "Дан поток дат в формате YYYY-MM-DD, в которых встречаются некорректные значения:\n",
        "stream = [‘2018-04-02’, ‘2018-02-29’, ‘2018-19-02’]\n",
        "\n",
        "Напишите функцию, которая проверяет эти даты на корректность. Т. е. для каждой даты возвращает True (дата корректна) или False (некорректная дата)."
      ]
    },
    {
      "cell_type": "code",
      "metadata": {
        "colab": {
          "base_uri": "https://localhost:8080/"
        },
        "id": "BR9hZLp4eumD",
        "outputId": "6f2cd2b2-091a-4419-cab0-c82db32b17d9"
      },
      "source": [
        "stream = ['2018-04-02', '2018-02-29', '2018-19-02']\n",
        "def validate(dt):\n",
        "  try:\n",
        "    datetime.strptime(dt, '%Y-%m-%d')\n",
        "    return True\n",
        "  except ValueError:\n",
        "    return False\n",
        "\n",
        "print([validate(e) for e in stream])"
      ],
      "execution_count": 9,
      "outputs": [
        {
          "output_type": "stream",
          "name": "stdout",
          "text": [
            "[True, False, False]\n"
          ]
        }
      ]
    },
    {
      "cell_type": "markdown",
      "metadata": {
        "id": "LaFlARVcY2qg"
      },
      "source": [
        "##Задание 3\n",
        "Напишите функцию date_range, которая возвращает список дат за период от start_date до end_date. Даты должны вводиться в формате YYYY-MM-DD. В случае неверного формата или при start_date > end_date должен возвращаться пустой список."
      ]
    },
    {
      "cell_type": "code",
      "metadata": {
        "colab": {
          "base_uri": "https://localhost:8080/"
        },
        "id": "upDw3R6Egaql",
        "outputId": "a93ee987-47b5-432f-d832-846b2b9a4618"
      },
      "source": [
        "from datetime import timedelta\n",
        "def date_range(start_date, end_date):\n",
        "  try:\n",
        "    start_date = datetime.strptime(start_date, '%Y-%m-%d')\n",
        "    end_date = datetime.strptime(end_date, '%Y-%m-%d')\n",
        "    if start_date > end_date:\n",
        "      return []\n",
        "    else:\n",
        "      diff = (end_date - start_date).days\n",
        "      return [(start_date + timedelta(days=i)).strftime('%Y-%m-%d') for i in range(diff+1)]\n",
        "  except ValueError:\n",
        "    return []\n",
        "\n",
        "st = input('start_date: ')\n",
        "ed = input('end_date: ')\n",
        "print(date_range(st, ed))"
      ],
      "execution_count": 38,
      "outputs": [
        {
          "output_type": "stream",
          "name": "stdout",
          "text": [
            "start_date: 2021-09-01\n",
            "end_date: 2021-10-01\n",
            "['2021-09-01', '2021-09-02', '2021-09-03', '2021-09-04', '2021-09-05', '2021-09-06', '2021-09-07', '2021-09-08', '2021-09-09', '2021-09-10', '2021-09-11', '2021-09-12', '2021-09-13', '2021-09-14', '2021-09-15', '2021-09-16', '2021-09-17', '2021-09-18', '2021-09-19', '2021-09-20', '2021-09-21', '2021-09-22', '2021-09-23', '2021-09-24', '2021-09-25', '2021-09-26', '2021-09-27', '2021-09-28', '2021-09-29', '2021-09-30', '2021-10-01']\n"
          ]
        }
      ]
    },
    {
      "cell_type": "markdown",
      "metadata": {
        "id": "mRHZ3ZR8Y9ck"
      },
      "source": [
        "##Задание 4 (бонусное)\n",
        "Ваш коллега прислал код функции:\n",
        "```\n",
        "DEFAULT_USER_COUNT = 3\n",
        "\n",
        "def delete_and_return_last_user(region, default_list=[‘A100’, ‘A101’, ‘A102’]):\n",
        "```\n",
        "\n",
        "Удаляет из списка default_list последнего пользователя\n",
        "и возвращает ID нового последнего пользователя.\n",
        "```\n",
        "element_to_delete = default_list[-1]\n",
        "default_list.remove(element_to_delete)\n",
        "\n",
        "\n",
        "1 return default_list[DEFAULT_USER_COUNT-2]\n",
        "```\n",
        "\n",
        "При однократном вызове этой функции все работает корректно:\n",
        "```\n",
        "delete_and_return_last_user(1)\n",
        "‘A101’\n",
        "```\n",
        "\n",
        "Однако, при повторном вызове получается ошибка IndexError: list index out of range.\n",
        "\n",
        "Задание:\n",
        "\n",
        "Что значит ошибка list index out of range?\n",
        "Почему при первом запуске функция работает корректно, а при втором - нет?"
      ]
    },
    {
      "cell_type": "code",
      "metadata": {
        "colab": {
          "base_uri": "https://localhost:8080/",
          "height": 322
        },
        "id": "xRHWCV83vH6p",
        "outputId": "f970aedc-1302-4352-a2fc-e3013032b33c"
      },
      "source": [
        "DEFAULT_USER_COUNT = 3\n",
        "def delete_and_return_last_user(region, default_list=['A100', 'A101', 'A102']):\n",
        "  element_to_delete = default_list[-1]\n",
        "  default_list.remove(element_to_delete)\n",
        "  return default_list[DEFAULT_USER_COUNT-2]\n",
        "\n",
        "delete_and_return_last_user(1)\n",
        "delete_and_return_last_user(1)"
      ],
      "execution_count": 6,
      "outputs": [
        {
          "output_type": "error",
          "ename": "IndexError",
          "evalue": "ignored",
          "traceback": [
            "\u001b[0;31m---------------------------------------------------------------------------\u001b[0m",
            "\u001b[0;31mIndexError\u001b[0m                                Traceback (most recent call last)",
            "\u001b[0;32m<ipython-input-6-582d340bf84a>\u001b[0m in \u001b[0;36m<module>\u001b[0;34m()\u001b[0m\n\u001b[1;32m      6\u001b[0m \u001b[0;34m\u001b[0m\u001b[0m\n\u001b[1;32m      7\u001b[0m \u001b[0mdelete_and_return_last_user\u001b[0m\u001b[0;34m(\u001b[0m\u001b[0;36m1\u001b[0m\u001b[0;34m)\u001b[0m\u001b[0;34m\u001b[0m\u001b[0;34m\u001b[0m\u001b[0m\n\u001b[0;32m----> 8\u001b[0;31m \u001b[0mdelete_and_return_last_user\u001b[0m\u001b[0;34m(\u001b[0m\u001b[0;36m1\u001b[0m\u001b[0;34m)\u001b[0m\u001b[0;34m\u001b[0m\u001b[0;34m\u001b[0m\u001b[0m\n\u001b[0m",
            "\u001b[0;32m<ipython-input-6-582d340bf84a>\u001b[0m in \u001b[0;36mdelete_and_return_last_user\u001b[0;34m(region, default_list)\u001b[0m\n\u001b[1;32m      3\u001b[0m   \u001b[0melement_to_delete\u001b[0m \u001b[0;34m=\u001b[0m \u001b[0mdefault_list\u001b[0m\u001b[0;34m[\u001b[0m\u001b[0;34m-\u001b[0m\u001b[0;36m1\u001b[0m\u001b[0;34m]\u001b[0m\u001b[0;34m\u001b[0m\u001b[0;34m\u001b[0m\u001b[0m\n\u001b[1;32m      4\u001b[0m   \u001b[0mdefault_list\u001b[0m\u001b[0;34m.\u001b[0m\u001b[0mremove\u001b[0m\u001b[0;34m(\u001b[0m\u001b[0melement_to_delete\u001b[0m\u001b[0;34m)\u001b[0m\u001b[0;34m\u001b[0m\u001b[0;34m\u001b[0m\u001b[0m\n\u001b[0;32m----> 5\u001b[0;31m   \u001b[0;32mreturn\u001b[0m \u001b[0mdefault_list\u001b[0m\u001b[0;34m[\u001b[0m\u001b[0mDEFAULT_USER_COUNT\u001b[0m\u001b[0;34m-\u001b[0m\u001b[0;36m2\u001b[0m\u001b[0;34m]\u001b[0m\u001b[0;34m\u001b[0m\u001b[0;34m\u001b[0m\u001b[0m\n\u001b[0m\u001b[1;32m      6\u001b[0m \u001b[0;34m\u001b[0m\u001b[0m\n\u001b[1;32m      7\u001b[0m \u001b[0mdelete_and_return_last_user\u001b[0m\u001b[0;34m(\u001b[0m\u001b[0;36m1\u001b[0m\u001b[0;34m)\u001b[0m\u001b[0;34m\u001b[0m\u001b[0;34m\u001b[0m\u001b[0m\n",
            "\u001b[0;31mIndexError\u001b[0m: list index out of range"
          ]
        }
      ]
    },
    {
      "cell_type": "markdown",
      "metadata": {
        "id": "y0yqZNBGv7AN"
      },
      "source": [
        "######**Что значит ошибка list index out of range?**\n",
        "Происходит попытка обращения к не существующему индексу массива\n",
        "######**Почему при первом запуске функция работает корректно, а при втором - нет??**\n",
        "Т.к. индекс \"нового\" последнего пользователя вычисляется как \"константа-2\"=1, а массив состоит из 3-х элементов и во время работы программы сохранен в памяти то в первый запуск функция работет корректно, т.к. после удаления остаются элементы default_list[0] и default_list[1], т.е. индекс \"константа-2\"=1 существует, после второго запуска элемент default_list[1] удалится, т.к. он последний и останется только default_list[0], т.е. индекса \"константа-2\"=1 нет что вызывает ошибку index out of range"
      ]
    }
  ]
}