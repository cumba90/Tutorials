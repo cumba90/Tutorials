{
 "cells": [
  {
   "cell_type": "code",
   "execution_count": 90,
   "id": "206df2ca",
   "metadata": {},
   "outputs": [],
   "source": [
    "purchase_log = 'C:\\\\tmp\\\\netology\\\\purchase_log.txt'\n",
    "funnel = 'C:\\\\tmp\\\\netology\\\\funnel.txt'\n",
    "visit_log = 'C:\\\\tmp\\\\netology\\\\visit_log.csv'"
   ]
  },
  {
   "cell_type": "code",
   "execution_count": 91,
   "id": "488e78c7",
   "metadata": {},
   "outputs": [
    {
     "name": "stdout",
     "output_type": "stream",
     "text": [
      "{'user_id': '1840e0b9d4', 'category': 'Продукты'}\n"
     ]
    }
   ],
   "source": [
    "import json\n",
    "log = open(purchase_log, 'r', encoding='utf-8')\n",
    "d = [json.loads(e) for e in log.readlines()[1:]]\n",
    "log.close()\n",
    "print(d[0])"
   ]
  },
  {
   "cell_type": "code",
   "execution_count": 92,
   "id": "e748b454",
   "metadata": {},
   "outputs": [],
   "source": [
    "f = open(funnel, 'w', encoding='utf-8')\n",
    "f.write('user_id,source,category\\n')\n",
    "for e in d:\n",
    "    with open(visit_log) as log:\n",
    "            for i, line in enumerate(log):\n",
    "                if i > 0:\n",
    "                    row = line.strip().split(',')\n",
    "                    #[user_id,source]\n",
    "                    if e['user_id'] == row[0]:\n",
    "                        f.write(row[0]+','+row[1]+','+e['category'] + '\\n')\n",
    "f.close()"
   ]
  }
 ],
 "metadata": {
  "kernelspec": {
   "display_name": "Python 3",
   "language": "python",
   "name": "python3"
  },
  "language_info": {
   "codemirror_mode": {
    "name": "ipython",
    "version": 3
   },
   "file_extension": ".py",
   "mimetype": "text/x-python",
   "name": "python",
   "nbconvert_exporter": "python",
   "pygments_lexer": "ipython3",
   "version": "3.8.8"
  }
 },
 "nbformat": 4,
 "nbformat_minor": 5
}
