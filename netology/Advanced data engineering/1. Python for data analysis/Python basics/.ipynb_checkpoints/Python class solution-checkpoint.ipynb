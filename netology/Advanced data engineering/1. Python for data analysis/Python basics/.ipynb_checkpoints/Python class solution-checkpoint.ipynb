{
 "cells": [
  {
   "cell_type": "markdown",
   "id": "6c1e0d7f",
   "metadata": {},
   "source": [
    "# **Домашнее задание**\n",
    "###### **Задание 1**\n",
    "Напишите функцию, которая возвращает название валюты (поле ‘Name’) с максимальным значением курса с помощью сервиса www.cbr-xml-daily.ru...ly_json.js"
   ]
  },
  {
   "cell_type": "code",
   "execution_count": 2,
   "id": "b8c36443",
   "metadata": {},
   "outputs": [
    {
     "data": {
      "text/plain": [
       "'СДР (специальные права заимствования)'"
      ]
     },
     "execution_count": 2,
     "metadata": {},
     "output_type": "execute_result"
    }
   ],
   "source": [
    "# coding utf-8\n",
    "import requests\n",
    "import json\n",
    "def greatest_curr():\n",
    "  curr_name = ''\n",
    "  value = 0\n",
    "  resp = requests.get('https://www.cbr-xml-daily.ru/daily_json.js').json()\n",
    "  #print(resp)\n",
    "  for e in resp[\"Valute\"].values():\n",
    "    if e[\"Value\"] > value:\n",
    "      value = e[\"Value\"]\n",
    "      curr_name = e[\"Name\"]\n",
    "  return curr_name\n",
    "\n",
    "\n",
    "greatest_curr()"
   ]
  },
  {
   "cell_type": "markdown",
   "id": "f4ee9d56",
   "metadata": {},
   "source": [
    "###### **Задание 2**\n",
    "Добавьте в класс Rate параметр diff (со значениями True или False), который в случае значения True в методах курсов валют (eur, usd итд) будет возвращать не курс валюты, а изменение по сравнению в прошлым значением. Считайте, self.diff будет принимать значение True только при возврате значения курса. При отображении всей информации о валюте он не используется."
   ]
  },
  {
   "cell_type": "code",
   "execution_count": 19,
   "id": "bfebee52",
   "metadata": {},
   "outputs": [
    {
     "name": "stdout",
     "output_type": "stream",
     "text": [
      "72.5553\n",
      "{'error': 'Not found', 'code': 404, 'explanation': 'Курс ЦБ РФ на данную дату не установлен. Проверить: https://www.cbr.ru/currency_base/daily/'}\n"
     ]
    },
    {
     "data": {
      "text/plain": [
       "'Error'"
      ]
     },
     "execution_count": 19,
     "metadata": {},
     "output_type": "execute_result"
    }
   ],
   "source": [
    "class Rate:\n",
    "    def __init__(self, format='value'):\n",
    "        self.format = format\n",
    "    \n",
    "    def exchange_rates(self, url=None):\n",
    "        \"\"\"\n",
    "        Возвращает ответ сервиса с информацией о валютах в виде:\n",
    "        \n",
    "        {\n",
    "            'AMD': {\n",
    "                'CharCode': 'AMD',\n",
    "                'ID': 'R01060',\n",
    "                'Name': 'Армянских драмов',\n",
    "                'Nominal': 100,\n",
    "                'NumCode': '051',\n",
    "                'Previous': 14.103,\n",
    "                'Value': 14.0879\n",
    "                },\n",
    "            ...\n",
    "        }\n",
    "        \"\"\"\n",
    "        if url is None:\n",
    "            r = requests.get('https://www.cbr-xml-daily.ru/daily_json.js')\n",
    "        else:\n",
    "            r = requests.get('https:'+url)\n",
    "            \n",
    "        return r.json()\n",
    "    \n",
    "    def make_format(self, currency):\n",
    "        \"\"\"\n",
    "        Возвращает информацию о валюте currency в двух вариантах:\n",
    "        - полная информация о валюте при self.format = 'full':\n",
    "        Rate('full').make_format('EUR')\n",
    "        {\n",
    "            'CharCode': 'EUR',\n",
    "            'ID': 'R01239',\n",
    "            'Name': 'Евро',\n",
    "            'Nominal': 1,\n",
    "            'NumCode': '978',\n",
    "            'Previous': 79.6765,\n",
    "            'Value': 79.4966\n",
    "        }\n",
    "        \n",
    "        Rate('value').make_format('EUR')\n",
    "        79.4966\n",
    "        \"\"\"\n",
    "        response = self.exchange_rates()\n",
    "        if currency in response['Valute']:\n",
    "            if self.format == 'full':\n",
    "                return response['Valute'][currency]\n",
    "            \n",
    "            if self.format == 'value':\n",
    "                return response['Valute'][currency]['Value']\n",
    "            \n",
    "            if self.format == 'diff':\n",
    "                prev_response = self.exchange_rates(response['PreviousURL'])\n",
    "                print(response['Valute'][currency]['Value'])\n",
    "                print(prev_response)\n",
    "                if currency in prev_response:\n",
    "                    return response['Valute'][currency]['Value'] - prev_response['Valute'][currency]['Value']\n",
    "                \n",
    "        \n",
    "        return 'Error'\n",
    "    \n",
    "    def eur(self):\n",
    "        \"\"\"Возвращает курс евро на сегодня в формате self.format\"\"\"\n",
    "        return self.make_format('EUR')\n",
    "    \n",
    "    def usd(self):\n",
    "        \"\"\"Возвращает курс доллара на сегодня в формате self.format\"\"\"\n",
    "        return self.make_format('USD')\n",
    "\n",
    "    def AZN(self):\n",
    "        \"\"\"Возвращает курс азербайджанского маната на сегодня в формате self.format\"\"\"\n",
    "        return self.make_format('AZN')\n",
    "    \n",
    "Rate('diff').usd()"
   ]
  },
  {
   "cell_type": "markdown",
   "id": "a6086e27",
   "metadata": {},
   "source": [
    "###### **Задание 3**\n",
    "Напишите класс Designer, который учитывает количество международных премий. Подсказки в коде занятия в разделе “Домашнее задание задача 3”.\n",
    "\n",
    "###### **Комментарий по классу Designer такой:**\n",
    "Напишите класс Designer, который учитывает количество международных премий для дизайнеров (из презентации: “Повышение на 1 грейд за каждые 7 баллов. Получение международной премии – это +2 балла”). Считайте, что при выходе на работу сотрудник уже имеет две премии и их количество не меняется со стажем (конечно если хотите это можно вручную менять).\n",
    "\n",
    "Класс Designer пишется по аналогии с классом Developer из материалов занятия. Комментарий про его условия Вика написала выше: “Повышение на 1 грейд за каждые 7 баллов. Получение международной премии – это +2 балла”"
   ]
  },
  {
   "cell_type": "code",
   "execution_count": 25,
   "id": "ad7178c7",
   "metadata": {},
   "outputs": [
    {
     "name": "stdout",
     "output_type": "stream",
     "text": [
      "a 3 1\n",
      "a 5 1\n",
      "a 1 2\n",
      "a 3 2\n",
      "a 5 2\n",
      "a 1 3\n",
      "a 3 3\n",
      "a 5 3\n",
      "a 1 4\n",
      "a 3 4\n",
      "a 5 4\n",
      "a 1 5\n",
      "a 3 5\n",
      "a 5 5\n",
      "a 1 6\n",
      "a 3 6\n",
      "a 5 6\n",
      "a 1 7\n",
      "a 3 7\n",
      "a 5 7\n"
     ]
    }
   ],
   "source": [
    "class designer():\n",
    "    def __init__(self, name):\n",
    "        self.name = name\n",
    "        self.intr_prizes = 2\n",
    "        self.mark = 1\n",
    "        self.grade = 1\n",
    "    def level_up(self):\n",
    "        self.grade += 1\n",
    "    def is_time_to_level_up(self):\n",
    "        self.intr_prizes += 1\n",
    "        self.mark += 2\n",
    "        \n",
    "        if self.mark % 7 == 0:\n",
    "            self.level_up()\n",
    "            self.mark = 1\n",
    "        \n",
    "        print(self.name, self.mark, self.grade)\n",
    "        \n",
    "a = designer('a')\n",
    "\n",
    "for i in range(20):\n",
    "    a.is_time_to_level_up()"
   ]
  }
 ],
 "metadata": {
  "kernelspec": {
   "display_name": "Python 3",
   "language": "python",
   "name": "python3"
  },
  "language_info": {
   "codemirror_mode": {
    "name": "ipython",
    "version": 3
   },
   "file_extension": ".py",
   "mimetype": "text/x-python",
   "name": "python",
   "nbconvert_exporter": "python",
   "pygments_lexer": "ipython3",
   "version": "3.8.8"
  }
 },
 "nbformat": 4,
 "nbformat_minor": 5
}
