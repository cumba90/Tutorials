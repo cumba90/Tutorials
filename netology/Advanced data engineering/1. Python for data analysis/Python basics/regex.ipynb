{
  "nbformat": 4,
  "nbformat_minor": 0,
  "metadata": {
    "kernelspec": {
      "display_name": "Python 3",
      "language": "python",
      "name": "python3"
    },
    "language_info": {
      "codemirror_mode": {
        "name": "ipython",
        "version": 3
      },
      "file_extension": ".py",
      "mimetype": "text/x-python",
      "name": "python",
      "nbconvert_exporter": "python",
      "pygments_lexer": "ipython3",
      "version": "3.7.6"
    },
    "colab": {
      "name": "regex.ipynb",
      "provenance": [],
      "collapsed_sections": []
    }
  },
  "cells": [
    {
      "cell_type": "markdown",
      "metadata": {
        "id": "cV_OLFHVZ8R2"
      },
      "source": [
        "# Домашнее задание к лекции \"Регулярные выражения\"\n",
        "\n",
        "Внимание! При реализации всех заданий необходимо использовать именно функционал регулярных выражений для обработки текста."
      ]
    },
    {
      "cell_type": "code",
      "metadata": {
        "id": "S1Ph64uMaiPi"
      },
      "source": [
        "import re"
      ],
      "execution_count": 2,
      "outputs": []
    },
    {
      "cell_type": "markdown",
      "metadata": {
        "id": "_xpmZeAyZ8R8"
      },
      "source": [
        "## Задание 1\n",
        "\n",
        "Напишите функцию, которая принимает на вход строку и проверяет является ли она валидным транспортным номером (1 буква, 3 цифры, 2 буквы, 2-3 цифры). Обратите внимание, что не все буквы кириллического алфавита используются в транспортных номерах.\n",
        "\n",
        "Если номер валиден, то функция должна возвращать отдельно номер и регион.\n",
        "\n",
        "Примеры работы программы:  \n",
        "\n",
        "1. `car_id = 'A222BC96'`\n",
        "\n",
        "Результат: \n",
        "`Номер A222BС валиден. Регион: 96`\n",
        "\n",
        "2. `car_id = 'АБ22ВВ193'`\n",
        "\n",
        "Результат: \n",
        "`Номер не валиден`"
      ]
    },
    {
      "cell_type": "code",
      "metadata": {
        "colab": {
          "base_uri": "https://localhost:8080/"
        },
        "id": "I0tOnEz-aGsB",
        "outputId": "06470aed-66e0-4bb3-d756-e43b11e87c31"
      },
      "source": [
        "def validate_car_id(car_id):\n",
        "  pattern = re.compile(r'^[АВЕКМНОРСТУХ|ABCEHKMOPTXY]\\d{3}[АВЕКМНОРСТУХ|ABCEHKMOPTXY]{2}\\d{2,3}$')\n",
        "  \n",
        "  if pattern.match(car_id):\n",
        "    valid_car_id = pattern.match(car_id).group()\n",
        "    car_no = re.match(r'^[АВЕКМНОРСТУХ|ABCEHKMOPTXY]\\d{3}[АВЕКМНОРСТУХ|ABCEHKMOPTXY]{2}', valid_car_id).group()\n",
        "    region = re.search(r'\\d{2,3}$', valid_car_id).group()\n",
        "    print('Номер {} валиден. Регион: {}'.format(car_no, region))\n",
        "  else:\n",
        "    print('Номер не валиден')\n",
        "    \n",
        "validate_car_id('A222BC96')"
      ],
      "execution_count": 61,
      "outputs": [
        {
          "output_type": "stream",
          "name": "stdout",
          "text": [
            "Номер A222BC валиден. Регион: 96\n"
          ]
        }
      ]
    },
    {
      "cell_type": "markdown",
      "metadata": {
        "id": "cMATPxkQZ8R-"
      },
      "source": [
        "## Задание 2\n",
        "\n",
        "Напишите функцию, которая будет удалять все последовательные повторы слов из заданной строки при помощи регулярных выражений.\n",
        "\n",
        "Пример работы программы:  \n",
        "\n",
        "`some_string = 'Напишите функцию функцию, которая будет будет будет будет удалять все все все все последовательные повторы слов из из из из заданной строки строки при помощи регулярных выражений.'`\n",
        "\n",
        "Результат:  \n",
        "`Напишите функцию, которая будет удалять все последовательные повторы слов из заданной строки при помощи регулярных выражений.`"
      ]
    },
    {
      "cell_type": "code",
      "metadata": {
        "colab": {
          "base_uri": "https://localhost:8080/"
        },
        "id": "MNaLfPfcnhEO",
        "outputId": "9013cbb2-d872-49e3-ce01-8a0481ebe940"
      },
      "source": [
        "def clear_duplicates(some_string):\n",
        "  res = re.sub(r'(\\b\\w+\\b)(\\W+\\1)+', '\\\\1', some_string)\n",
        "  print(res)\n",
        "\n",
        "some_string = 'функцию Напишите функцию функцию, которая будет будет будет будет удалять все все все все последовательные повторы слов из из из из заданной строки строки при помощи регулярных выражений.'\n",
        "clear_duplicates(some_string)"
      ],
      "execution_count": 167,
      "outputs": [
        {
          "output_type": "stream",
          "name": "stdout",
          "text": [
            "функцию Напишите функцию, которая будет удалять все последовательные повторы слов из заданной строки при помощи регулярных выражений.\n"
          ]
        }
      ]
    },
    {
      "cell_type": "markdown",
      "metadata": {
        "id": "_NNupSGYZ8R-"
      },
      "source": [
        "## Задание 3\n",
        "\n",
        "Напишите функцию, которая будет возвращать акроним по переданной в нее строке со словами.\n",
        "\n",
        "Примеры работы программы:  \n",
        "\n",
        "1. `some_words = 'Информационные технологии'`\n",
        "\n",
        "Результат: \n",
        "`ИТ`\n",
        "\n",
        "2. `some_words = 'Near Field Communication'`\n",
        "\n",
        "Результат: \n",
        "`NFC`"
      ]
    },
    {
      "cell_type": "code",
      "metadata": {
        "colab": {
          "base_uri": "https://localhost:8080/"
        },
        "id": "POX5sipaxpgu",
        "outputId": "5b3a0606-9775-492a-af86-d57ef649d4ec"
      },
      "source": [
        "def acronym(some_words):\n",
        "  res = re.sub(r'\\b(\\w)(\\w+\\b)\\s*', '\\\\1', some_words)\n",
        "  #print(''.join(res).upper())\n",
        "  print(res.upper())\n",
        "\n",
        "acronym('Near Field Communication')"
      ],
      "execution_count": 189,
      "outputs": [
        {
          "output_type": "stream",
          "name": "stdout",
          "text": [
            "NFC\n"
          ]
        }
      ]
    },
    {
      "cell_type": "markdown",
      "metadata": {
        "id": "vXte0uQ_Z8R_"
      },
      "source": [
        "## Задание 4\n",
        "\n",
        "Напишите функцию, которая будет принимать на вход список email-адресов и выводить их распределение по доменным зонам.\n",
        "\n",
        "Пример работы программы:  \n",
        "\n",
        "`emails = ['test@gmail.com', 'xyz@test.in', 'test@ya.ru', 'xyz@mail.ru', 'xyz@ya.ru', 'xyz@gmail.com']`\n",
        "\n",
        "Результат: \n",
        "```\n",
        "gmail.com: 2\n",
        "test.in: 1 \n",
        "ya.ru: 2 \n",
        "mail.ru: 1\n",
        "```"
      ]
    },
    {
      "cell_type": "code",
      "metadata": {
        "colab": {
          "base_uri": "https://localhost:8080/"
        },
        "id": "NNo503QVHRW2",
        "outputId": "646dc80b-e89f-4146-ef7b-10fcd0a09187"
      },
      "source": [
        "emails = ['test@gmail.com', 'xyz@test.in', 'test@ya.ru', 'xyz@mail.ru', 'xyz@ya.ru', 'xyz@gmail.com']\n",
        "pattern = re.compile(r'(?:.+\\@)(.+\\..+)')\n",
        "list_domains = [pattern.findall(email)[0] for email in emails]\n",
        "for e in set(list_domains):\n",
        "  #print(e)\n",
        "  print(e + ': ' + str(list_domains.count(e)))"
      ],
      "execution_count": 28,
      "outputs": [
        {
          "output_type": "stream",
          "name": "stdout",
          "text": [
            "test.in: 1\n",
            "mail.ru: 1\n",
            "gmail.com: 2\n",
            "ya.ru: 2\n"
          ]
        }
      ]
    },
    {
      "cell_type": "markdown",
      "metadata": {
        "id": "R_QAqxnEZ8SA"
      },
      "source": [
        "## Задание 5 (необязательное)\n",
        "\n",
        "Напишите функцию, которая будет подсчитывать сколько слов начинается на гласные, а сколько на согласные буквы в тексте (текст может быть написан как с использованием букв кириллицы, так и латиницы).\n",
        "\n",
        "Пример работы программы:  \n",
        "\n",
        "`some_text = 'Эталонной реализацией Python является интерпретатор CPython, поддерживающий большинство активно используемых платформ. Он распространяется под свободной лицензией Python Software Foundation License, позволяющей использовать его без ограничений в любых приложениях, включая проприетарные.'`\n",
        "\n",
        "Результат: \n",
        "```\n",
        "Слов на гласные буквы: 9\n",
        "Слов на согласные буквы: 21 \n",
        "```"
      ]
    },
    {
      "cell_type": "code",
      "metadata": {
        "colab": {
          "base_uri": "https://localhost:8080/"
        },
        "id": "9VauFlyUQ6bT",
        "outputId": "52e83c97-f564-4168-ea98-4abd7c585d8e"
      },
      "source": [
        "some_text = 'Эталонной реализацией Python является интерпретатор CPython, поддерживающий большинство активно используемых платформ. Он распространяется под свободной лицензией Python Software Foundation License, позволяющей использовать его без ограничений в любых приложениях, включая проприетарные.'\n",
        "a,b = 0,0\n",
        "words = re.findall(r'(\\b[аеёийоуэюяaeiouy]\\w*\\b)|(\\b[бвгджзклмнпрстфхцчшщbcdfghjklnmpqrstvwxz]\\w*\\b)', some_text, flags=re.IGNORECASE)\n",
        "for word_set in words:\n",
        "  if word_set[0]:\n",
        "    a += 1\n",
        "  else:\n",
        "    b += 1\n",
        "#words\n",
        "print('Слов на гласные буквы: {}'.format(a))\n",
        "print('Слов на согласные буквы: {}'.format(b))"
      ],
      "execution_count": 57,
      "outputs": [
        {
          "output_type": "stream",
          "name": "stdout",
          "text": [
            "Слов на гласные буквы: 9\n",
            "Слов на согласные буквы: 21\n"
          ]
        }
      ]
    },
    {
      "cell_type": "markdown",
      "metadata": {
        "id": "4FK7oqxQZ8SA"
      },
      "source": [
        "## Задание 6 (необязательное)\n",
        "Напишите функцию, которая будет проверять номер сотового телефона на валидность (только для российского формата), если он валиден, то переводить его в формат:   \n",
        "+7-xxx-xxx-xx-xx  \n",
        "Постарайтесь предусмотреть как можно больше адекватных форматов изначального ввода номера.\n",
        "Примеры работы программы:  \n",
        "\n",
        "1. `phone = '+7 955 555-55-55'`\n",
        "\n",
        "Результат: \n",
        "`+7-955-555-55-55`\n",
        "\n",
        "2. `phone = '8(955)555-55-55'`\n",
        "\n",
        "Результат: \n",
        "`+7-955-555-55-55`\n",
        "\n",
        "3. `phone = '+7 955 555 55 55'`\n",
        "\n",
        "Результат: \n",
        "`+7-955-555-55-55`\n",
        "\n",
        "4. `phone = '7(955) 555-55-55'`\n",
        "\n",
        "Результат: \n",
        "`+7-955-555-55-55`\n",
        "\n",
        "5. `phone = '423-555-55-5555'`\n",
        "\n",
        "Результат: \n",
        "`Номер не валиден`\n",
        "\n",
        "6. `phone = '123-456-789'`\n",
        "\n",
        "Результат: \n",
        "`Номер не валиден`"
      ]
    },
    {
      "cell_type": "code",
      "metadata": {
        "colab": {
          "base_uri": "https://localhost:8080/"
        },
        "id": "2cgT8u-JXEwP",
        "outputId": "43f31c59-e8bc-4d9c-fae8-4c3a0f392d59"
      },
      "source": [
        "phones = ['+7 955 555-55-55', '8(955)555-55-55', '+7 955 555 55 55', '7(955) 555-55-55', '423-555-55-5555', '123-456-789']\n",
        "def validate_phone(phone):\n",
        "  pattern = re.compile(r'(\\W*\\d)(\\W*)(\\d{3})(\\W*)(\\d{3})(\\W*)(\\d{2})(\\W*)(\\d{2})')\n",
        "  if pattern.match(phone) is not None:\n",
        "    print(pattern.sub(r'+7(\\3)-\\5-\\7-\\9', phone))\n",
        "  else:\n",
        "    print('Номер не валиден')\n",
        "\n",
        "for phone in phones:\n",
        "  validate_phone(phone)"
      ],
      "execution_count": 78,
      "outputs": [
        {
          "output_type": "stream",
          "name": "stdout",
          "text": [
            "+7(955)-555-55-55\n",
            "+7(955)-555-55-55\n",
            "+7(955)-555-55-55\n",
            "+7(955)-555-55-55\n",
            "Номер не валиден\n",
            "Номер не валиден\n"
          ]
        }
      ]
    },
    {
      "cell_type": "markdown",
      "metadata": {
        "id": "GfpIcnALZ8SB"
      },
      "source": [
        "#### ПРИМЕЧАНИЕ\n",
        "Домашнее задание сдается ссылкой [Google Colab](https://colab.research.google.com/).\n",
        "Не сможем проверить или помочь, если вы пришлете:\n",
        "- файлы;\n",
        "- архивы;\n",
        "- скриншоты кода.\n",
        "\n",
        "Все обсуждения и консультации по выполнению домашнего задания ведутся только на соответствующем канале в slack.\n",
        "\n",
        "##### Как правильно задавать вопросы аспирантам, преподавателям и коллегам\n",
        "Прежде чем задать вопрос, попробуйте найти ответ в интернете. Навык самостоятельного поиска информации — один из важнейших. Каждый практикующий специалист любого уровня делает это ежедневно.\n",
        "\n",
        "Сформулируйте вопрос по алгоритму:  \n",
        "1) Что я делаю?  \n",
        "2) Какого результата я ожидаю?  \n",
        "3) Как фактический результат отличается от ожидаемого?  \n",
        "4) Что я уже попробовал сделать, чтобы исправить проблему?  \n",
        "\n",
        "По возможности прикрепите к вопросу скриншоты либо ссылки на код. Не выкладывайте все решение, оставляйте только проблемный и воспроизводимый участок кода."
      ]
    }
  ]
}