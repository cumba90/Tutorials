{
  "nbformat": 4,
  "nbformat_minor": 0,
  "metadata": {
    "kernelspec": {
      "display_name": "Python 3",
      "language": "python",
      "name": "python3"
    },
    "language_info": {
      "codemirror_mode": {
        "name": "ipython",
        "version": 3
      },
      "file_extension": ".py",
      "mimetype": "text/x-python",
      "name": "python",
      "nbconvert_exporter": "python",
      "pygments_lexer": "ipython3",
      "version": "3.7.0"
    },
    "colab": {
      "name": "pyda-lab-0620.ipynb",
      "provenance": [],
      "collapsed_sections": []
    }
  },
  "cells": [
    {
      "cell_type": "markdown",
      "metadata": {
        "id": "RN9-rO2FoKpt"
      },
      "source": [
        "## Лабораторная работа по курсу «Python для анализа данных»"
      ]
    },
    {
      "cell_type": "markdown",
      "metadata": {
        "id": "uWNY-PeuoKpw"
      },
      "source": [
        "### При выполнении работы допускается использование любых внешних модулей и пакетов."
      ]
    },
    {
      "cell_type": "markdown",
      "metadata": {
        "id": "xl0FFiD8oKpx"
      },
      "source": [
        "#### Задача 1"
      ]
    },
    {
      "cell_type": "markdown",
      "metadata": {
        "id": "ubcyBWDLoKpy"
      },
      "source": [
        "Дана строка:"
      ]
    },
    {
      "cell_type": "code",
      "metadata": {
        "id": "Oj6e2iV2oKpy"
      },
      "source": [
        "string_01 = \"History is always written by the winners. When two cultures clash, the loser is obliterated, and the winner writes the history books - books which glorify their own cause and disparage the conquered foe. As Napoleon once said, 'What is history, but a fable agreed upon?'\""
      ],
      "execution_count": 1,
      "outputs": []
    },
    {
      "cell_type": "markdown",
      "metadata": {
        "id": "DSL4oY3BoKpz"
      },
      "source": [
        "1. Посчитайте, сколько в строке символов, исключая пробелы:"
      ]
    },
    {
      "cell_type": "code",
      "metadata": {
        "colab": {
          "base_uri": "https://localhost:8080/"
        },
        "id": "o1QlJ0WKoKp0",
        "outputId": "9e483a76-0b63-4c8b-de93-b566ee0fdf48"
      },
      "source": [
        "import re\n",
        "len(re.findall(r'([^\\s\\d\\w])', string_01))"
      ],
      "execution_count": 13,
      "outputs": [
        {
          "output_type": "execute_result",
          "data": {
            "text/plain": [
              "10"
            ]
          },
          "metadata": {},
          "execution_count": 13
        }
      ]
    },
    {
      "cell_type": "markdown",
      "metadata": {
        "id": "gA_OUPXBoKp0"
      },
      "source": [
        "2. Посчитайте, сколько в строке слов."
      ]
    },
    {
      "cell_type": "code",
      "metadata": {
        "colab": {
          "base_uri": "https://localhost:8080/"
        },
        "id": "b3fk9-TwoKp1",
        "outputId": "309ffd2b-e369-4557-8d0a-f288d2e832f1"
      },
      "source": [
        "len(re.findall('[a-z]+', string_01, flags=re.IGNORECASE))"
      ],
      "execution_count": 37,
      "outputs": [
        {
          "output_type": "execute_result",
          "data": {
            "text/plain": [
              "45"
            ]
          },
          "metadata": {},
          "execution_count": 37
        }
      ]
    },
    {
      "cell_type": "markdown",
      "metadata": {
        "id": "ut1Q0kD4oKp1"
      },
      "source": [
        "3. Напишите функцию, которая будет принимать в качестве аргумента букву и выводить все слова из строки, начинающиеся на эту букву (например, “w”)."
      ]
    },
    {
      "cell_type": "code",
      "metadata": {
        "colab": {
          "base_uri": "https://localhost:8080/",
          "height": 35
        },
        "id": "Z_V_kikWoKp2",
        "outputId": "02e0fc05-74b6-401a-87b3-2a003daa98c6"
      },
      "source": [
        "def find_words_by_letter(letter):\n",
        "  d = {}\n",
        "  for value in re.findall('[a-z]+', string_01, flags=re.IGNORECASE):\n",
        "    d.setdefault(value[0], {value}).add(value)\n",
        "  if d.get(letter):\n",
        "    return ', '.join(d[letter])\n",
        "  else:\n",
        "    print('There is no word that begins on {}'.format(letter))\n",
        "\n",
        "\n",
        "find_words_by_letter('a')\n",
        "#find_words_by_letter('x')"
      ],
      "execution_count": 80,
      "outputs": [
        {
          "output_type": "execute_result",
          "data": {
            "application/vnd.google.colaboratory.intrinsic+json": {
              "type": "string"
            },
            "text/plain": [
              "'and, agreed, always, a'"
            ]
          },
          "metadata": {},
          "execution_count": 80
        }
      ]
    },
    {
      "cell_type": "code",
      "metadata": {
        "colab": {
          "base_uri": "https://localhost:8080/"
        },
        "id": "McFgxJJhUGRj",
        "outputId": "d1a3212a-9a13-4893-8af9-27aac69aa422"
      },
      "source": [
        "def find_words_by_letter(letter):\n",
        "  for value in set(re.findall('[a-z]+', string_01, flags=re.IGNORECASE)):\n",
        "    if value.startswith(letter):\n",
        "      print(value)\n",
        "\n",
        "find_words_by_letter('a')"
      ],
      "execution_count": 191,
      "outputs": [
        {
          "output_type": "stream",
          "name": "stdout",
          "text": [
            "a\n",
            "always\n",
            "agreed\n",
            "and\n"
          ]
        }
      ]
    },
    {
      "cell_type": "code",
      "metadata": {
        "colab": {
          "base_uri": "https://localhost:8080/"
        },
        "id": "chi8hqHlXMDf",
        "outputId": "9ba077a7-6008-4ce8-e57d-15cad13232a3"
      },
      "source": [
        "def find_words_by_letter(letter):\n",
        "  print(', '.join(set(re.findall(r'\\b[' + letter.lower() + letter.upper() + '+]\\w*', string_01, flags=re.IGNORECASE))))\n",
        "\n",
        "find_words_by_letter('a')"
      ],
      "execution_count": 197,
      "outputs": [
        {
          "output_type": "stream",
          "name": "stdout",
          "text": [
            "a, As, and, agreed, always\n"
          ]
        }
      ]
    },
    {
      "cell_type": "markdown",
      "metadata": {
        "id": "WpOVyZJSoKp2"
      },
      "source": [
        "#### Задача 2"
      ]
    },
    {
      "cell_type": "markdown",
      "metadata": {
        "id": "r5-QIJk2oKp3"
      },
      "source": [
        "Напишите код, который будет генерировать случайную последовательность из 6 цифр, одна из которых должна быть 3. Позиция цифры 3 должна\n",
        "определяться случайным образом. Результат должен быть строкой. Например: \"456309\" или \"330127\"."
      ]
    },
    {
      "cell_type": "code",
      "metadata": {
        "colab": {
          "base_uri": "https://localhost:8080/"
        },
        "id": "85QvtZCaoKp4",
        "outputId": "ed8ce7c6-474c-4bd2-8c5d-352a4449511a"
      },
      "source": [
        "import random as r\n",
        "\n",
        "r_val_str = str(r.randrange(0, 99999, 1)).zfill(6)\n",
        "r_val_lsit = list(r_val_str)\n",
        "r_pos = r.randrange(0, 5, 1)\n",
        "print('Random value: ', r_val_str, 'Random position ', r_pos)\n",
        "r_val_lsit[r_pos] = '3'\n",
        "\n",
        "print('Result', ''.join(r_val_lsit))\n"
      ],
      "execution_count": 126,
      "outputs": [
        {
          "output_type": "stream",
          "name": "stdout",
          "text": [
            "Random value:  007788 Random position  2\n",
            "Result 003788\n"
          ]
        }
      ]
    },
    {
      "cell_type": "markdown",
      "metadata": {
        "id": "He_esHN5oKp4"
      },
      "source": [
        "#### Задача 3"
      ]
    },
    {
      "cell_type": "markdown",
      "metadata": {
        "id": "RNq1jnWfoKp4"
      },
      "source": [
        "Дан список:"
      ]
    },
    {
      "cell_type": "code",
      "metadata": {
        "id": "tVTUBvwfoKp5"
      },
      "source": [
        "list_01 = [1, 1, 2, 3, 5, 8, 13, 21, 34, 55, 89, 144, 233, 377, 610, 14, 46, 273, 22, 99, 15, 1000]"
      ],
      "execution_count": 128,
      "outputs": []
    },
    {
      "cell_type": "markdown",
      "metadata": {
        "id": "JzJDLdfLoKp5"
      },
      "source": [
        "Напишите алгоритм, который выводит число, равное сумме элементов списка, которые больше 10, но меньше 100, и которые больше 200, но меньше 500."
      ]
    },
    {
      "cell_type": "code",
      "metadata": {
        "colab": {
          "base_uri": "https://localhost:8080/"
        },
        "id": "ZZga5ZEsoKp5",
        "outputId": "45bdf74b-942d-44d5-86c3-dfe6c6d182e0"
      },
      "source": [
        "sum(filter(lambda x: 10<x<100 or 200<x<500, list_01))"
      ],
      "execution_count": 137,
      "outputs": [
        {
          "output_type": "execute_result",
          "data": {
            "text/plain": [
              "1291"
            ]
          },
          "metadata": {},
          "execution_count": 137
        }
      ]
    },
    {
      "cell_type": "markdown",
      "metadata": {
        "id": "NrN81dIWoKp5"
      },
      "source": [
        "#### Задача 4"
      ]
    },
    {
      "cell_type": "markdown",
      "metadata": {
        "id": "__fGVnVyoKp6"
      },
      "source": [
        "Данные студентов представлены в виде списка списков:"
      ]
    },
    {
      "cell_type": "code",
      "metadata": {
        "id": "mPMdcxHkoKp6"
      },
      "source": [
        "students = [\n",
        "[\"0001\", \"Антонов\", \"Антон\", \"Игоревич\", \"20.08.2009\",\"БСТ161\"],\n",
        "[\"1102\", \"Богов\", \"Артем\", \"Игоревич\", \"25.01.2010\",\"БСТ162\"],\n",
        "[\"0333\", \"Глаголева\", \"Анастасия\", \"Николаевна\", \"11.07.2009\", \"БСТ163\"],\n",
        "[\"4004\", \"Степанова\", \"Наталья\", \"Александровна\", \"13.02.2008\", \"БСТ161\"],\n",
        "[\"0045\", \"Боков\", \"Игорь\", \"Харитонович\", \"02.06.2009\", \"БСТ161\"],\n",
        "[\"0096\", \"Васильков\", \"Валентин\", \"Сергеевич\", \"20.03.2009\", \"БСТ164\"],\n",
        "[\"0607\", \"Сиропова\", \"Виолетта\", \"Эдуардовна\", \"28.05.2010\", \"БСТ162\"]\n",
        "    ]"
      ],
      "execution_count": 138,
      "outputs": []
    },
    {
      "cell_type": "markdown",
      "metadata": {
        "id": "a8NikiGEoKp7"
      },
      "source": [
        "1. Преобразуйте данные таким образом, чтобы они были представлены в виде словаря, в котором ключами являются номера студентов, а значениями — список из других данных о студентах."
      ]
    },
    {
      "cell_type": "code",
      "metadata": {
        "colab": {
          "base_uri": "https://localhost:8080/"
        },
        "id": "tlfA9s-zoKp7",
        "outputId": "83d2f420-f16c-4d68-edc7-da728bea23a0"
      },
      "source": [
        "studs_dict = {e[0]: e[1:] for e in students}\n",
        "studs_dict['0001']"
      ],
      "execution_count": 163,
      "outputs": [
        {
          "output_type": "execute_result",
          "data": {
            "text/plain": [
              "['Антонов', 'Антон', 'Игоревич', '20.08.2009', 'БСТ161']"
            ]
          },
          "metadata": {},
          "execution_count": 163
        }
      ]
    },
    {
      "cell_type": "markdown",
      "metadata": {
        "id": "BME838g4oKp7"
      },
      "source": [
        "2. Напишите функцию, которая принимает в качестве аргумента номер студента и новый номер группы и позволяет изменить номер группы этого студента на новый внутри созданного словаря."
      ]
    },
    {
      "cell_type": "code",
      "metadata": {
        "colab": {
          "base_uri": "https://localhost:8080/"
        },
        "id": "CuSGagK3oKp8",
        "outputId": "82a48e59-89b9-4011-c4ca-9d3c9e5a94a9"
      },
      "source": [
        "def update_group(stud_no, new_group_no):\n",
        "  if studs_dict.get(stud_no):\n",
        "    vals = studs_dict[stud_no]\n",
        "    #print(vals, vals[:-1])\n",
        "    studs_dict[stud_no] = vals[:-1] + [new_group_no]\n",
        "  else:\n",
        "    print('Student not found')\n",
        "\n",
        "update_group('0001', 'qwerty')\n",
        "studs_dict"
      ],
      "execution_count": 167,
      "outputs": [
        {
          "output_type": "execute_result",
          "data": {
            "text/plain": [
              "{'0001': ['Антонов', 'Антон', 'Игоревич', '20.08.2009', 'qwerty'],\n",
              " '0045': ['Боков', 'Игорь', 'Харитонович', '02.06.2009', 'БСТ161'],\n",
              " '0096': ['Васильков', 'Валентин', 'Сергеевич', '20.03.2009', 'БСТ164'],\n",
              " '0333': ['Глаголева', 'Анастасия', 'Николаевна', '11.07.2009', 'БСТ163'],\n",
              " '0607': ['Сиропова', 'Виолетта', 'Эдуардовна', '28.05.2010', 'БСТ162'],\n",
              " '1102': ['Богов', 'Артем', 'Игоревич', '25.01.2010', 'БСТ162'],\n",
              " '4004': ['Степанова', 'Наталья', 'Александровна', '13.02.2008', 'БСТ161']}"
            ]
          },
          "metadata": {},
          "execution_count": 167
        }
      ]
    },
    {
      "cell_type": "code",
      "metadata": {
        "colab": {
          "base_uri": "https://localhost:8080/"
        },
        "id": "53zqvg-fZb-1",
        "outputId": "67c3037d-9643-4613-ccbf-25565c8cdd9b"
      },
      "source": [
        "def update_group(stud_no, new_group_no):\n",
        "  if studs_dict.get(stud_no):\n",
        "    vals = studs_dict[stud_no]\n",
        "    #print(vals, vals[:-1])\n",
        "    studs_dict[stud_no][4] = new_group_no\n",
        "  else:\n",
        "    print('Student not found')\n",
        "\n",
        "update_group('0001', 'qwerty1')\n",
        "studs_dict"
      ],
      "execution_count": 199,
      "outputs": [
        {
          "output_type": "execute_result",
          "data": {
            "text/plain": [
              "{'0001': ['Антонов', 'Антон', 'Игоревич', '20.08.2009', 'qwerty1'],\n",
              " '0045': ['Боков', 'Игорь', 'Харитонович', '02.06.2009', 'БСТ161'],\n",
              " '0096': ['Васильков', 'Валентин', 'Сергеевич', '20.03.2009', 'БСТ164'],\n",
              " '0333': ['Глаголева', 'Анастасия', 'Николаевна', '11.07.2009', 'БСТ163'],\n",
              " '0607': ['Сиропова', 'Виолетта', 'Эдуардовна', '28.05.2010', 'БСТ162'],\n",
              " '1102': ['Богов', 'Артем', 'Игоревич', '25.01.2010', 'БСТ162'],\n",
              " '4004': ['Степанова', 'Наталья', 'Александровна', '13.02.2008', 'БСТ161']}"
            ]
          },
          "metadata": {},
          "execution_count": 199
        }
      ]
    },
    {
      "cell_type": "markdown",
      "metadata": {
        "id": "Uqv-rLM6oKp8"
      },
      "source": [
        "3. Напишите функцию, которая принимает номер группы и выводит список (фамилии, имена, отчества) всех студентов этой группы. Необходимо обращаться к словарю."
      ]
    },
    {
      "cell_type": "code",
      "metadata": {
        "colab": {
          "base_uri": "https://localhost:8080/"
        },
        "id": "0feAxMtnoKp8",
        "outputId": "24df5fee-f40c-44f5-f798-ad523dcdf8b5"
      },
      "source": [
        "def list_of_students(group_no):\n",
        "  for v in studs_dict.values():\n",
        "    if group_no in v:\n",
        "      print(' '.join(v[0:3]))\n",
        "\n",
        "list_of_students('БСТ161')"
      ],
      "execution_count": 172,
      "outputs": [
        {
          "output_type": "stream",
          "name": "stdout",
          "text": [
            "Степанова Наталья Александровна\n",
            "Боков Игорь Харитонович\n"
          ]
        }
      ]
    },
    {
      "cell_type": "markdown",
      "metadata": {
        "id": "mIfzDztPoKp8"
      },
      "source": [
        "#### Задача 5"
      ]
    },
    {
      "cell_type": "markdown",
      "metadata": {
        "id": "AYm6XMp2oKp8"
      },
      "source": [
        "Дана матрица:"
      ]
    },
    {
      "cell_type": "code",
      "metadata": {
        "id": "xUZJVjIXoKp9"
      },
      "source": [
        "matrix = [ \n",
        "    [0,1,2,4,8], \n",
        "    [6,2,2,1,9], \n",
        "    [3,3,3,3,3], \n",
        "    [4,6,7,1,2], \n",
        "    [5,7,3,4,0] \n",
        "]"
      ],
      "execution_count": 174,
      "outputs": []
    },
    {
      "cell_type": "markdown",
      "metadata": {
        "id": "n6-hB3OnoKp9"
      },
      "source": [
        "1. Выведите результат сложения всех элементов матрицы."
      ]
    },
    {
      "cell_type": "code",
      "metadata": {
        "colab": {
          "base_uri": "https://localhost:8080/"
        },
        "id": "6vjfdEi5oKp9",
        "outputId": "c1039c93-51c1-4039-843d-1bf8aa151926"
      },
      "source": [
        "#sum([sum(x) for x in matrix])\n",
        "sum(sum(matrix, []))"
      ],
      "execution_count": 181,
      "outputs": [
        {
          "output_type": "execute_result",
          "data": {
            "text/plain": [
              "89"
            ]
          },
          "metadata": {},
          "execution_count": 181
        }
      ]
    },
    {
      "cell_type": "markdown",
      "metadata": {
        "id": "583sQ9-noKp9"
      },
      "source": [
        "2. Напишите алгоритм вычисления максимума из сумм элементов каждого столбца."
      ]
    },
    {
      "cell_type": "code",
      "metadata": {
        "colab": {
          "base_uri": "https://localhost:8080/"
        },
        "id": "FSuzUT1ZoKp9",
        "outputId": "646cada7-e457-4376-ce62-b954460c8c8d"
      },
      "source": [
        "col_sum = [0 for x in range(0, 5)]\n",
        "for row in matrix:\n",
        "  for i in range(0, len(row)):\n",
        "    col_sum[i] += row[i]\n",
        "\n",
        "max(col_sum)"
      ],
      "execution_count": 200,
      "outputs": [
        {
          "output_type": "execute_result",
          "data": {
            "text/plain": [
              "22"
            ]
          },
          "metadata": {},
          "execution_count": 200
        }
      ]
    },
    {
      "cell_type": "code",
      "metadata": {
        "colab": {
          "base_uri": "https://localhost:8080/"
        },
        "id": "FqJ8DoMDbqzj",
        "outputId": "286b7451-a21e-404a-a03e-93706c6238c4"
      },
      "source": [
        "print(*matrix)"
      ],
      "execution_count": 207,
      "outputs": [
        {
          "output_type": "stream",
          "name": "stdout",
          "text": [
            "[0, 1, 2, 4, 8] [6, 2, 2, 1, 9] [3, 3, 3, 3, 3] [4, 6, 7, 1, 2] [5, 7, 3, 4, 0]\n"
          ]
        }
      ]
    },
    {
      "cell_type": "code",
      "metadata": {
        "colab": {
          "base_uri": "https://localhost:8080/"
        },
        "id": "6MYaqMAcbI30",
        "outputId": "715f05cb-0555-4868-bb36-e97eb095f576"
      },
      "source": [
        "print(list(zip(*matrix)))"
      ],
      "execution_count": 206,
      "outputs": [
        {
          "output_type": "stream",
          "name": "stdout",
          "text": [
            "[(0, 6, 3, 4, 5), (1, 2, 3, 6, 7), (2, 2, 3, 7, 3), (4, 1, 3, 1, 4), (8, 9, 3, 2, 0)]\n"
          ]
        }
      ]
    },
    {
      "cell_type": "code",
      "metadata": {
        "colab": {
          "base_uri": "https://localhost:8080/"
        },
        "id": "FinFdUxrbt_H",
        "outputId": "f8c10824-d8cf-4f5c-83be-0d7970059a16"
      },
      "source": [
        "[sum(x) for x in list(zip(*matrix))]"
      ],
      "execution_count": 213,
      "outputs": [
        {
          "output_type": "execute_result",
          "data": {
            "text/plain": [
              "[18, 19, 17, 13, 22]"
            ]
          },
          "metadata": {},
          "execution_count": 213
        }
      ]
    },
    {
      "cell_type": "code",
      "metadata": {
        "colab": {
          "base_uri": "https://localhost:8080/"
        },
        "id": "lRIzJZC_cE-T",
        "outputId": "b3b4210c-5f0c-45b1-dd73-d5e2e87e3a6a"
      },
      "source": [
        "max([sum(x) for x in list(zip(*matrix))])"
      ],
      "execution_count": 214,
      "outputs": [
        {
          "output_type": "execute_result",
          "data": {
            "text/plain": [
              "22"
            ]
          },
          "metadata": {},
          "execution_count": 214
        }
      ]
    }
  ]
}